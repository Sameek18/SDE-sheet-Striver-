{
 "cells": [
  {
   "cell_type": "code",
   "execution_count": 3,
   "metadata": {
    "scrolled": true
   },
   "outputs": [
    {
     "name": "stdout",
     "output_type": "stream",
     "text": [
      "-1 3 5 -1 -2 5 7\n",
      "17\n"
     ]
    }
   ],
   "source": [
    "nums=list(map(int,input().split()))\n",
    "csum=0\n",
    "msum=0\n",
    "for i in range(len(nums)):\n",
    "    csum+=nums[i]\n",
    "    if csum<0:\n",
    "        csum=0\n",
    "    elif csum>msum:\n",
    "        msum=csum\n",
    "print(msum)"
   ]
  },
  {
   "cell_type": "code",
   "execution_count": 7,
   "metadata": {},
   "outputs": [
    {
     "name": "stdout",
     "output_type": "stream",
     "text": [
      "0 0 1 1 2 2 1 1 0 0 \n"
     ]
    },
    {
     "data": {
      "text/plain": [
       "[0, 0, 0, 0, 1, 1, 1, 1, 2, 2]"
      ]
     },
     "execution_count": 7,
     "metadata": {},
     "output_type": "execute_result"
    }
   ],
   "source": [
    "\n",
    "\n",
    "def Countsort(nums,n):\n",
    "    count0,count1,count2=0,0,0\n",
    "    for i in range(0,n):\n",
    "        if nums[i]==0:\n",
    "            count0+=1\n",
    "        elif nums[i]==1:\n",
    "            count1+=1\n",
    "        elif nums[i]==2:\n",
    "            count2+=1\n",
    "\n",
    "    for i in range(0,count1):\n",
    "        nums[i]=0\n",
    "\n",
    "    for i in range(count1,count0+count1):\n",
    "        nums[i]=1\n",
    "\n",
    "    for i in range(count0+count1,n):\n",
    "        nums[i]=2\n",
    "\n",
    "    return(nums)\n",
    "\n",
    "\n",
    "nums=list(map(int,input().split()))\n",
    "n=len(nums)\n",
    "Countsort(nums,n)"
   ]
  },
  {
   "cell_type": "code",
   "execution_count": 9,
   "metadata": {},
   "outputs": [
    {
     "name": "stdout",
     "output_type": "stream",
     "text": [
      "8\n",
      "0\n",
      "1\n",
      "2\n",
      "3\n",
      "4\n",
      "5\n",
      "6\n",
      "7\n"
     ]
    }
   ],
   "source": [
    "nums = [4,3,2,7,8,2,3,1]\n",
    "print(len(nums))\n",
    "for i in range(8):\n",
    "    print(i)"
   ]
  },
  {
   "cell_type": "markdown",
   "metadata": {},
   "source": []
  }
 ],
 "metadata": {
  "kernelspec": {
   "display_name": "Python 3",
   "language": "python",
   "name": "python3"
  },
  "language_info": {
   "codemirror_mode": {
    "name": "ipython",
    "version": 3
   },
   "file_extension": ".py",
   "mimetype": "text/x-python",
   "name": "python",
   "nbconvert_exporter": "python",
   "pygments_lexer": "ipython3",
   "version": "3.8.3"
  }
 },
 "nbformat": 4,
 "nbformat_minor": 4
}
